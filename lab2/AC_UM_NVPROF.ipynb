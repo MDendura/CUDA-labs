{
 "cells": [
  {
   "cell_type": "markdown",
   "metadata": {},
   "source": [
    "<h1><div align=\"center\">Managing Accelerated Application Memory with CUDA C/C++ Unified Memory and nvprof</div></h1>"
   ]
  },
  {
   "cell_type": "markdown",
   "metadata": {},
   "source": [
    "![CUDA](./images/CUDA_Logo.jpg)"
   ]
  },
  {
   "cell_type": "markdown",
   "metadata": {},
   "source": [
    "The [*CUDA Best Practices Guide*](http://docs.nvidia.com/cuda/cuda-c-best-practices-guide/index.html#memory-optimizations), a highly recommended followup to this and other CUDA fundamentals labs, recommends a design cycle called **APOD**: **A**ssess, **P**arallelize, **O**ptimize, **D**eploy. In short, APOD prescribes an iterative design process, where developers can apply incremental improvements to their accelerated application's performance, and ship their code. As developers become more competent CUDA programmers, more advanced optimization techniques can be applied to their accelerated codebases.\n",
    "\n",
    "This lab will support such a style of iterative development. You will be using the **NVIDIA Command Line Profiler** to qualitatively measure your application's performance, and to identify opportunities for optimization, after which you will apply incremental improvements before learning new techniques and repeating the cycle. As a point of focus, many of the techniques you will be learning and applying in this lab will deal with the specifics of how CUDA's **Unified Memory** works. Understanding Unified Memory behavior is a fundamental skill for CUDA developers, and serves as a prerequisite to many more advanced memory management techniques."
   ]
  },
  {
   "cell_type": "markdown",
   "metadata": {},
   "source": [
    "---\n",
    "## Prerequisites\n",
    "\n",
    "To get the most out of this lab you should already be able to:\n",
    "\n",
    "- Write, compile, and run C/C++ programs that both call CPU functions and launch GPU kernels.\n",
    "- Control parallel thread hierarchy using execution configuration.\n",
    "- Refactor serial loops to execute their iterations in parallel on a GPU.\n",
    "- Allocate and free Unified Memory."
   ]
  },
  {
   "cell_type": "markdown",
   "metadata": {},
   "source": [
    "---\n",
    "## Objectives\n",
    "\n",
    "By the time you complete this lab, you will be able to:\n",
    "\n",
    "- Use the **NVIDIA Command Line Profiler** (**nprof**) to profile accelerated application performance.\n",
    "- Leverage an understanding of **Streaming Multiprocessors** to optimize execution configurations.\n",
    "- Understand the behavior of **Unified Memory** with regard to page faulting and data migrations.\n",
    "- Use **asynchronous memory prefetching** to reduce page faults and data migrations for increased performance.\n",
    "- Employ an iterative development cycle to rapidly accelerate and deploy applications."
   ]
  },
  {
   "cell_type": "markdown",
   "metadata": {},
   "source": [
    "---\n",
    "## Iterative Optimizations with the NVIDIA Command Line Profiler\n",
    "\n",
    "The only way to be assured that attempts at optimizing accelerated code bases are actually successful is to profile the application for quantitative information about the application's performance. `nvprof` is the NVIDIA command line profiler. It ships with the CUDA toolkit, and is a powerful tool for profiling accelerated applications.\n",
    "\n",
    "`nvprof` is easy to use. Its most basic usage is to simply pass it the path to an executable compiled with `nvcc`. `nvprof` will proceed to execute the application, after which it will print a summary output of the application's GPU activities, CUDA API calls, as well as information about **Unified Memory** activity, a topic which will be covered extensively later in this lab.\n",
    "\n",
    "When accelerating applications, or optimizing already-accelerated applications, take a scientific and iterative approach. Profile your application after making changes, take note, and record the implications of any refactoring on performance. Make these observations early and often: frequently, enough performance boost can be gained with little effort such that you can ship your accelerated application. Additionally, frequent profiling will teach you how specific changes to your CUDA codebases impact its actual performance: knowledge that is hard to acquire when only profiling after many kinds of changes in your codebase."
   ]
  },
  {
   "cell_type": "markdown",
   "metadata": {},
   "source": [
    "\n",
    "### Exercise: Profile an Application with nvprof\n",
    "\n",
    "[01-vector-add.cu](../../../../../edit/01-vector-add.cu) (<------ you can click on this and any of the source file links in this lab to open them for editing) is a naively accelerated vector addition program. Use the two code execution cells below (by `CTRL` + clicking them). The first code execution cell will compile (and run) the vector addition program. The second code execution cell will profile the executable that was just compiled using `nvprof`.\n",
    "\n",
    "After profiling the application, answer the following questions using information displayed in the profiling output:\n",
    "\n",
    "- What was the name of the only CUDA kernel called in this application?\n",
    "- How many times did this kernel run?\n",
    "- How long did it take this kernel to run? Record this time somewhere: you will be optimizing this application and will want to know how much faster you can make it."
   ]
  },
  {
   "cell_type": "code",
   "execution_count": 1,
   "metadata": {},
   "outputs": [
    {
     "name": "stdout",
     "output_type": "stream",
     "text": [
      "Success! All values calculated correctly.\r\n"
     ]
    }
   ],
   "source": [
    "!nvcc -arch=sm_61 -o single-thread-vector-add 01-vector-add.cu -run"
   ]
  },
  {
   "cell_type": "code",
   "execution_count": 2,
   "metadata": {},
   "outputs": [
    {
     "name": "stdout",
     "output_type": "stream",
     "text": [
      "==6041== NVPROF is profiling process 6041, command: ./single-thread-vector-add\n",
      "Success! All values calculated correctly.\n",
      "==6041== Profiling application: ./single-thread-vector-add\n",
      "==6041== Profiling result:\n",
      "            Type  Time(%)      Time     Calls       Avg       Min       Max  Name\n",
      " GPU activities:  100.00%  5.16105s         1  5.16105s  5.16105s  5.16105s  addVectorsInto(float*, float*, float*, int)\n",
      "      API calls:   96.39%  5.16110s         1  5.16110s  5.16110s  5.16110s  cudaDeviceSynchronize\n",
      "                    3.32%  178.02ms         3  59.341ms  18.300us  177.95ms  cudaMallocManaged\n",
      "                    0.25%  13.555ms         3  4.5184ms  3.8179ms  5.6376ms  cudaFree\n",
      "                    0.02%  1.1127ms       192  5.7950us     147ns  322.51us  cuDeviceGetAttribute\n",
      "                    0.00%  203.94us         2  101.97us  99.341us  104.60us  cuDeviceTotalMem\n",
      "                    0.00%  87.298us         2  43.649us  42.726us  44.572us  cuDeviceGetName\n",
      "                    0.00%  38.767us         1  38.767us  38.767us  38.767us  cudaLaunchKernel\n",
      "                    0.00%  5.5710us         2  2.7850us  2.1660us  3.4050us  cuDeviceGetPCIBusId\n",
      "                    0.00%  1.5240us         3     508ns     213ns  1.0090us  cuDeviceGetCount\n",
      "                    0.00%  1.3770us         4     344ns     140ns     857ns  cuDeviceGet\n",
      "                    0.00%     451ns         2     225ns     193ns     258ns  cuDeviceGetUuid\n",
      "                    0.00%     345ns         1     345ns     345ns     345ns  cudaGetLastError\n",
      "\n",
      "==6041== Unified Memory profiling result:\n",
      "Device \"GeForce GTX 1080 (0)\"\n",
      "   Count  Avg Size  Min Size  Max Size  Total Size  Total Time  Name\n",
      "    2304  170.67KB  4.0000KB  0.9961MB  384.0000MB  70.05376ms  Host To Device\n",
      "     768  170.67KB  4.0000KB  0.9961MB  128.0000MB  21.42227ms  Device To Host\n",
      "     768         -         -         -           -  123.9508ms  Gpu page fault groups\n",
      "Total CPU Page faults: 1536\n"
     ]
    }
   ],
   "source": [
    "!nvprof ./single-thread-vector-add"
   ]
  },
  {
   "cell_type": "markdown",
   "metadata": {},
   "source": [
    "### Exercise: Optimize and Profile\n",
    "\n",
    "Take a minute or two to make a simple optimization to [01-vector-add.cu](../../../../../edit/01-vector-add.cu) by updating its execution configuration so that it runs on many threads in a single thread block. Recompile and then profile with `nvprof` using the code execution cells below. Use the profiling output to check the runtime of the kernel. What was the speed up from this optimization? Be sure to record your results somewhere."
   ]
  },
  {
   "cell_type": "code",
   "execution_count": null,
   "metadata": {},
   "outputs": [],
   "source": [
    "!nvcc -arch=sm_61 -o multi-thread-vector-add 01-vector-add.cu -run"
   ]
  },
  {
   "cell_type": "code",
   "execution_count": null,
   "metadata": {},
   "outputs": [],
   "source": [
    "!nvprof ./multi-thread-vector-add"
   ]
  },
  {
   "cell_type": "markdown",
   "metadata": {},
   "source": [
    "### Exercise: Optimize Iteratively\n",
    "\n",
    "In this exercise you will go through several cycles of editing the execution configuration of [01-vector-add.cu](../../../../../edit/01-vector-add.cu), profiling it, and recording the results to see the impact. Use the following guidelines while working:\n",
    "\n",
    "- Start by listing 3 to 5 different ways you will update the execution configuration, being sure to cover a range of different grid and block size combinations.\n",
    "- Edit the [01-vector-add.cu](../../../../../edit/01-vector-add.cu) program in one of the ways you listed.\n",
    "- Compile and profile your updated code with the two code execution cells below.\n",
    "- Record the runtime of the kernel execution, as given in the profiling output.\n",
    "- Repeat the edit/profile/record cycle for each possible optimzation you listed above\n",
    "\n",
    "Which of the execution configurations you attempted proved to be the fastest?"
   ]
  },
  {
   "cell_type": "code",
   "execution_count": null,
   "metadata": {},
   "outputs": [],
   "source": [
    "!nvcc -arch=sm_61 -o iteratively-optimized-vector-add 01-vector-add.cu -run"
   ]
  },
  {
   "cell_type": "code",
   "execution_count": null,
   "metadata": {},
   "outputs": [],
   "source": [
    "!nvprof ./iteratively-optimized-vector-add"
   ]
  },
  {
   "cell_type": "markdown",
   "metadata": {},
   "source": [
    "---\n",
    "## Streaming Multiprocessors and Querying the Device\n",
    "\n",
    "This section explores how understanding a specific feature of the GPU hardware can promote optimization. After introducing **Streaming Multiprocessors**, you will attempt to further optimize the accelerated vector addition program you have been working on.\n",
    "\n",
    "The following slides present upcoming material visually, at a high level. Click through the slides before moving on to more detailed coverage of their topics in following sections."
   ]
  },
  {
   "cell_type": "code",
   "execution_count": 7,
   "metadata": {
    "scrolled": true
   },
   "outputs": [
    {
     "data": {
      "text/html": [
       "\n",
       "<div align=\"center\"><iframe src=\"https://docs.google.com/presentation/d/e/2PACX-1vQTzaK1iaFkxgYxaxR5QgHCVx1ZqhpX2F3q9UU6sGKCYaNIq6CGAo8W_qyzg2qwpeiZoHd7NCug7OTj/embed?start=false&loop=false&delayms=3000\" frameborder=\"0\" width=\"900\" height=\"550\" allowfullscreen=\"true\" mozallowfullscreen=\"true\" webkitallowfullscreen=\"true\"></iframe></div>"
      ],
      "text/plain": [
       "<IPython.core.display.HTML object>"
      ]
     },
     "metadata": {},
     "output_type": "display_data"
    }
   ],
   "source": [
    "%%HTML\n",
    "\n",
    "<div align=\"center\"><iframe src=\"https://docs.google.com/presentation/d/e/2PACX-1vQTzaK1iaFkxgYxaxR5QgHCVx1ZqhpX2F3q9UU6sGKCYaNIq6CGAo8W_qyzg2qwpeiZoHd7NCug7OTj/embed?start=false&loop=false&delayms=3000\" frameborder=\"0\" width=\"900\" height=\"550\" allowfullscreen=\"true\" mozallowfullscreen=\"true\" webkitallowfullscreen=\"true\"></iframe></div>"
   ]
  },
  {
   "cell_type": "markdown",
   "metadata": {},
   "source": [
    "### Streaming Multiprocessors and Warps\n",
    "\n",
    "The GPUs that CUDA applications run on have processing units called **streaming multiprocessors**, or **SMs**. During kernel execution, blocks of threads are given to SMs to execute. In order to support the GPU's ability to perform as many parallel operations as possible, performance gains can often be had by *choosing a grid size that has a number of blocks that is a multiple of the number of SMs on a given GPU.*\n",
    "\n",
    "Additionally, SMs create, manage, schedule, and execute groupings of 32 threads from within a block called **warps**. A more [in depth coverage of SMs and warps](http://docs.nvidia.com/cuda/cuda-c-programming-guide/index.html#hardware-implementation) is beyond the scope of this course, however, it is important to know that performance gains can also be had by *choosing a block size that has a number of threads that is a multiple of 32.*"
   ]
  },
  {
   "cell_type": "markdown",
   "metadata": {},
   "source": [
    "### Programmatically Querying GPU Device Properties\n",
    "\n",
    "In order to support portability, since the number of SMs on a GPU can differ depending on the specific GPU being used, the number of SMs should not be hard-coded into a codebase. Rather, this information should be acquired programatically.\n",
    "\n",
    "The following shows how, in CUDA C/C++, to obtain a C struct which contains many properties about the currently active GPU device, including its number of SMs:\n",
    "\n",
    "```cpp\n",
    "int deviceId;\n",
    "cudaGetDevice(&deviceId);                  // `deviceId` now points to the id of the currently active GPU.\n",
    "\n",
    "cudaDeviceProp props;\n",
    "cudaGetDeviceProperties(&props, deviceId); // `props` now has many useful properties about\n",
    "                                           // the active GPU device.\n",
    "```"
   ]
  },
  {
   "cell_type": "markdown",
   "metadata": {},
   "source": [
    "### Exercise: Query the Device\n",
    "\n",
    "Currently, [`01-get-device-properties.cu`](../../../../../edit/01-get-device-properties.cu) contains many unassigned variables, and will print gibberish information intended to describe details about the currently active GPU.\n",
    "\n",
    "Build out [`01-get-device-properties.cu`](../../../../../edit/01-get-device-properties.cu) to print the actual values for the desired device properties indicated in the source code. In order to support your work, and as an introduction to them, use the [CUDA Runtime Docs](http://docs.nvidia.com/cuda/cuda-runtime-api/structcudaDeviceProp.html) to help identify the relevant properties in the device props struct. Refer to [the solution](../../../../../edit/01-get-device-properties-solution.cu) if you get stuck."
   ]
  },
  {
   "cell_type": "code",
   "execution_count": 6,
   "metadata": {},
   "outputs": [
    {
     "name": "stdout",
     "output_type": "stream",
     "text": [
      "Device ID: 0\r\n",
      "Number of SMs: 20\r\n",
      "Compute Capability Major: 6\r\n",
      "Compute Capability Minor: 1\r\n",
      "Warp Size: 32\r\n"
     ]
    }
   ],
   "source": [
    "!nvcc -arch=sm_61 -o get-device-properties solutions/01-get-device-properties-solution.cu -run"
   ]
  },
  {
   "cell_type": "markdown",
   "metadata": {},
   "source": [
    "### Exercise: Optimize Vector Add with Grids Sized to Number of SMs\n",
    "\n",
    "Utilize your ability to query the device for its number of SMs to refactor the `addVectorsInto` kernel you have been working on inside [01-vector-add.cu](../../../../../edit/01-vector-add.cu) so that it launches with a grid containing a number of blocks that is a multiple of the number of SMs on the device.\n",
    "\n",
    "Depending on other specific details in the code you have written, this refactor may or may not improve, or significantly change, the performance of your kernel. Therefore, as always, be sure to use `nvprof` so that you can quantitatively evaulate performance changes. Record the results with the rest of your findings thus far, based on the profiling output."
   ]
  },
  {
   "cell_type": "code",
   "execution_count": null,
   "metadata": {},
   "outputs": [],
   "source": [
    "!nvcc -arch=sm_61 -o sm-optimized-vector-add 01-vector-add.cu -run"
   ]
  },
  {
   "cell_type": "code",
   "execution_count": null,
   "metadata": {},
   "outputs": [],
   "source": [
    "!nvprof ./sm-optimized-vector-add"
   ]
  },
  {
   "cell_type": "markdown",
   "metadata": {},
   "source": [
    "---\n",
    "## Unified Memory Details\n",
    "\n",
    "You have been allocting memory intended for use either by host or device code with `cudaMallocManaged` and up until now have enjoyed the benefits of this method - automatic memory migration, ease of programming - without diving into the details of how the **Unified Memory** (**UM**) allocated by `cudaMallocManaged` actual works. `nvprof` provides details about UM management in accelerated applications, and using this information, in conjunction with a more-detailed understanding of how UM works, provides additional opportunities to optimize accelerated applications.\n",
    "\n",
    "The following slides present upcoming material visually, at a high level. Click through the slides before moving on to more detailed coverage of their topics in following sections."
   ]
  },
  {
   "cell_type": "code",
   "execution_count": 8,
   "metadata": {},
   "outputs": [
    {
     "data": {
      "text/html": [
       "\n",
       "<div align=\"center\"><iframe src=\"https://docs.google.com/presentation/d/e/2PACX-1vS0-BCGiWUb82r1RH-4cSRmZjN2vjebqoodlHIN1fvtt1iDh8X8W9WOSlLVxcsY747WVIebw13cDYBO/embed?start=false&loop=false&delayms=3000\" frameborder=\"0\" width=\"900\" height=\"550\" allowfullscreen=\"true\" mozallowfullscreen=\"true\" webkitallowfullscreen=\"true\"></iframe></div>"
      ],
      "text/plain": [
       "<IPython.core.display.HTML object>"
      ]
     },
     "metadata": {},
     "output_type": "display_data"
    }
   ],
   "source": [
    "%%HTML\n",
    "\n",
    "<div align=\"center\"><iframe src=\"https://docs.google.com/presentation/d/e/2PACX-1vS0-BCGiWUb82r1RH-4cSRmZjN2vjebqoodlHIN1fvtt1iDh8X8W9WOSlLVxcsY747WVIebw13cDYBO/embed?start=false&loop=false&delayms=3000\" frameborder=\"0\" width=\"900\" height=\"550\" allowfullscreen=\"true\" mozallowfullscreen=\"true\" webkitallowfullscreen=\"true\"></iframe></div>"
   ]
  },
  {
   "cell_type": "markdown",
   "metadata": {},
   "source": [
    "### Unified Memory Migration\n",
    "\n",
    "When UM is allocated, the memory is not resident yet on either the host or the device. When either the host or device attempts to access the memory, a [page fault](https://en.wikipedia.org/wiki/Page_fault) will occur, at which point the host or device will migrate the needed data in batches. Similarly, at any point when the CPU, or any GPU in the accelerated system, attempts to access memory not yet resident on it, page faults will occur and trigger its migration.\n",
    "\n",
    "The ability to page fault and migrate memory on demand is tremendously helpful for ease of development in your accelerated applications. Additionally, when working with data that exhibits sparse access patterns, for example when it is impossible to know which data will be required to be worked on until the application actually runs, and for scenarios when data might be accessed by multiple GPU devices in an accelerated system with multiple GPUs, on-demand memory migration is remarkably beneficial.\n",
    "\n",
    "There are times - for example when data needs are known prior to runtime, and large contiguous blocks of memory are required - when the overhead of page faulting and migrating data on demand incurs an overhead cost that would be better avoided.\n",
    "\n",
    "Much of the remainder of this lab will be dedicated to understanding on-demand migration, and how to identify it in the profiler's output. With this knowledge you will be able to reduce the overhead of it in scenarios when it would be beneficial."
   ]
  },
  {
   "cell_type": "markdown",
   "metadata": {},
   "source": [
    "### Exercise: Explore UM Page Faulting\n",
    "\n",
    "`nvprof` provides output describing UM behavior for the profiled application. In this exercise, you will make several modifications to a simple application, and make use of `nvprof`'s Unified Memory output section after each change, to explore how UM data migration behaves.\n",
    "\n",
    "[`01-page-faults.cu`](../../../../../edit/01-page-faults.cu) contains a `hostFunction` and a `gpuKernel`, both which could be used to initialize the elements of a `2<<24` element vector with the number `1`. Curently neither the host function nor GPU kernel are being used.\n",
    "\n",
    "For each of the 4 questions below, given what you have just learned about UM behavior, first hypothesize about what kind of page faulting should happen, then, edit [`01-page-faults.cu`](../../../../../edit/01-page-faults.cu) to create a scenario, by using one or both of the 2 provided functions in the codebase, that will allow you to test your hypothesis.\n",
    "\n",
    "In order to test your hypotheses, compile and profile your code using the code execution cells below. Be sure to record your hypotheses, as well as the results, obtained from `nvprof` output, specifically CPU and GPU page faults, for each of the 4 experiments you are conducting. There are links to solutions for each of the 4 experiments which you can refer to if you get stuck.\n",
    "\n",
    "- What happens when unified memory is accessed only by the CPU? ([solution](../../../../../edit/solutions/01-page-faults-solution-cpu-only.cu))\n",
    "- What happens when unified memory is accessed only by the GPU? ([solution](../../../../../edit/solutions/02-page-faults-solution-gpu-only.cu))\n",
    "- What happens when unified memory is accessed first by the CPU then the GPU? ([solution](../../../../../edit/solutions/03-page-faults-solution-cpu-then-gpu.cu))\n",
    "- What happens when unified memory is accessed first by the GPU then the CPU? ([solution](../../../../../edit/solutions/04-page-faults-solution-gpu-then-cpu.cu))"
   ]
  },
  {
   "cell_type": "code",
   "execution_count": null,
   "metadata": {},
   "outputs": [],
   "source": [
    "!nvcc -arch=sm_61 -o page-faults 01-page-faults.cu -run"
   ]
  },
  {
   "cell_type": "code",
   "execution_count": null,
   "metadata": {},
   "outputs": [],
   "source": [
    "!nvprof ./page-faults"
   ]
  },
  {
   "cell_type": "markdown",
   "metadata": {},
   "source": [
    "### Exercise: Revisit UM Behavior for Vector Add Program\n",
    "\n",
    "Returning to the [01-vector-add.cu](../../../../../edit/01-vector-add.cu) program you have been working on throughout this lab, review the codebase in its current state, and hypothesize about what kinds of page faults you expect to occur. Look at the profiling output for your last refactor (either by scrolling up to find the output or by executing the code execution cell just below), observing the Unified Memory section of the profiler output. Can you explain the page faulting descriptions based on the contents of the code base?"
   ]
  },
  {
   "cell_type": "code",
   "execution_count": null,
   "metadata": {},
   "outputs": [],
   "source": [
    "!nvprof ./sm-optimized-vector-add"
   ]
  },
  {
   "cell_type": "markdown",
   "metadata": {},
   "source": [
    "### Exercise: Initialize Vector in Kernel\n",
    "\n",
    "When `nvprof` gives the amount of time that a kernel takes to execute, the host-to-device page faults and data migrations that occur during this kernel's execution are included in the displayed execution time.\n",
    "\n",
    "With this in mind, refactor the `initWith` host function in your [01-vector-add.cu](../../../../../edit/01-vector-add.cu) program to instead be a CUDA kernel, initializing the allocated vector in parallel on the GPU. After successfully compiling and running the refactored application, but before profiling it, hypothesize about the following:\n",
    "\n",
    "- How do you expect the refactor to affect UM page-fault behavior?\n",
    "- How do you expect the refactor to affect the reported run time of `addVectorsInto`?\n",
    "\n",
    "Once again, record the results. Refer to [the solution](../../../../../edit/01-vector-add-init-in-kernel-solution.cu) if you get stuck."
   ]
  },
  {
   "cell_type": "code",
   "execution_count": null,
   "metadata": {},
   "outputs": [],
   "source": [
    "!nvcc -arch=sm_61 -o initialize-in-kernel 01-vector-add.cu -run"
   ]
  },
  {
   "cell_type": "code",
   "execution_count": null,
   "metadata": {},
   "outputs": [],
   "source": [
    "!nvprof ./initialize-in-kernel"
   ]
  },
  {
   "cell_type": "markdown",
   "metadata": {},
   "source": [
    "---\n",
    "## Asynchronous Memory Prefetching\n",
    "\n",
    "A powerful technique to reduce the overhead of page faulting and on-demand memory migrations, both in host-to-device and device-to-host memory transfers, is called **asynchronous memory prefetching**. Using this technique allows programmers to asynchronously migrate unified memory (UM) to any CPU or GPU device in the system, in the background, prior to its use by application code. By doing this, GPU kernels and CPU function performance can be increased on account of reduced page fault and on-demand data migration overhead.\n",
    "\n",
    "Prefetching also tends to migrate data in larger chunks, and therefore fewer trips, than on-demand migration. This makes it an excellent fit when data access needs are known before runtime, and when data access patterns are not sparse.\n",
    "\n",
    "CUDA Makes asynchronously prefetching managed memory to either a GPU device or the CPU easy with its `cudaMemPrefetchAsync` function. Here is an example of using it to both prefetch data to the currently active GPU device, and then, to the CPU:\n",
    "\n",
    "```cpp\n",
    "int deviceId;\n",
    "cudaGetDevice(&deviceId);                                         // The ID of the currently active GPU device.\n",
    "\n",
    "cudaMemPrefetchAsync(pointerToSomeUMData, size, deviceId);        // Prefetch to GPU device.\n",
    "cudaMemPrefetchAsync(pointerToSomeUMData, size, cudaCpuDeviceId); // Prefetch to host. `cudaCpuDeviceId` is a\n",
    "                                                                  // built-in CUDA variable.\n",
    "```"
   ]
  },
  {
   "cell_type": "markdown",
   "metadata": {},
   "source": [
    "### Exercise: Prefetch Memory\n",
    "\n",
    "At this point in the lab, your [01-vector-add.cu](../../../../../edit/01-vector-add.cu) program should not only be launching a CUDA kernel to add 2 vectors into a third solution vector, all which are allocated with `cudaMallocManaged`, but should also initializing each of the 3 vectors in parallel in a CUDA kernel. If for some reason, your application does not do any of the above, please refer to the following [reference application](../../../../../edit/01-vector-add-prefetch.cu), and update your own codebase to reflect its current functionality.\n",
    "\n",
    "Conduct 3 experiments using `cudaMemPrefetchAsync` inside of your [01-vector-add.cu](../../../../../edit/01-vector-add.cu) application to understand its impact on page-faulting and memory migration.\n",
    "\n",
    "- What happens when you prefetch one of the initialized vectors to the host?\n",
    "- What happens when you prefetch two of the initialized vectors to the host?\n",
    "- What happens when you prefetch all three of the initialized vectors to the host?\n",
    "\n",
    "Hypothesize about UM behavior, page faulting specificially, as well as the impact on the reported run time of the initialization kernel, before each experiement, and then verify by running `nvprof`. Refer to [the solution](../../../../../edit/solutions/01-vector-add-prefetch-solution.cu) if you get stuck."
   ]
  },
  {
   "cell_type": "code",
   "execution_count": null,
   "metadata": {},
   "outputs": [],
   "source": [
    "!nvcc -arch=sm_61 -o prefetch-to-gpu 01-vector-add.cu -run"
   ]
  },
  {
   "cell_type": "code",
   "execution_count": null,
   "metadata": {},
   "outputs": [],
   "source": []
  },
  {
   "cell_type": "code",
   "execution_count": 15,
   "metadata": {},
   "outputs": [
    {
     "name": "stdout",
     "output_type": "stream",
     "text": [
      "Device ID: 0\tNumber of SMs: 20\n",
      "Success! All values calculated correctly.\n"
     ]
    }
   ],
   "source": [
    "!nvcc -arch=sm_61 -o prefetch-to-gpu  solutions/01-vector-add-prefetch-solution.cu   -run"
   ]
  },
  {
   "cell_type": "code",
   "execution_count": 16,
   "metadata": {},
   "outputs": [
    {
     "name": "stdout",
     "output_type": "stream",
     "text": [
      "==12200== NVPROF is profiling process 12200, command: ./prefetch-to-gpu\n",
      "Device ID: 0\tNumber of SMs: 20\n",
      "Success! All values calculated correctly.\n",
      "==12200== Profiling application: ./prefetch-to-gpu\n",
      "==12200== Profiling result:\n",
      "            Type  Time(%)      Time     Calls       Avg       Min       Max  Name\n",
      " GPU activities:  100.00%  1.7046ms         1  1.7046ms  1.7046ms  1.7046ms  addVectorsInto(float*, float*, float*, int)\n",
      "      API calls:   67.97%  179.25ms         3  59.751ms  15.391us  179.19ms  cudaMallocManaged\n",
      "                   23.84%  62.882ms         1  62.882ms  62.882ms  62.882ms  cudaDeviceSynchronize\n",
      "                    4.93%  13.009ms         3  4.3363ms  3.7075ms  5.4922ms  cudaFree\n",
      "                    2.71%  7.1451ms         3  2.3817ms  6.5990us  7.0213ms  cudaMemPrefetchAsync\n",
      "                    0.42%  1.1142ms       192  5.8030us     142ns  331.71us  cuDeviceGetAttribute\n",
      "                    0.07%  194.71us         2  97.356us  90.701us  104.01us  cuDeviceTotalMem\n",
      "                    0.03%  87.317us         2  43.658us  42.789us  44.528us  cuDeviceGetName\n",
      "                    0.01%  28.000us         1  28.000us  28.000us  28.000us  cudaLaunchKernel\n",
      "                    0.00%  6.6600us         2  3.3300us  2.9700us  3.6900us  cuDeviceGetPCIBusId\n",
      "                    0.00%  2.4050us         1  2.4050us  2.4050us  2.4050us  cudaGetDevice\n",
      "                    0.00%  1.6460us         3     548ns     143ns  1.2830us  cuDeviceGetCount\n",
      "                    0.00%  1.1550us         4     288ns     136ns     667ns  cuDeviceGet\n",
      "                    0.00%     473ns         1     473ns     473ns     473ns  cudaDeviceGetAttribute\n",
      "                    0.00%     446ns         2     223ns     182ns     264ns  cuDeviceGetUuid\n",
      "                    0.00%     271ns         1     271ns     271ns     271ns  cudaGetLastError\n",
      "\n",
      "==12200== Unified Memory profiling result:\n",
      "Device \"GeForce GTX 1080 (0)\"\n",
      "   Count  Avg Size  Min Size  Max Size  Total Size  Total Time  Name\n",
      "     192  2.0000MB  2.0000MB  2.0000MB  384.0000MB  66.77974ms  Host To Device\n",
      "     768  170.67KB  4.0000KB  0.9961MB  128.0000MB  22.21501ms  Device To Host\n",
      "Total CPU Page faults: 1536\n"
     ]
    }
   ],
   "source": [
    "!nvprof ./prefetch-to-gpu"
   ]
  },
  {
   "cell_type": "markdown",
   "metadata": {},
   "source": [
    "### Exercise: Prefetch Memory Back to the CPU\n",
    "\n",
    "Add additional prefetching back to the CPU for the function that verifies the correctness of the `addVectorInto` kernel. Again, hypothesize about the impact on UM before profiling in `nvprof` to confirm. Refer to [the solution](../../../../../edit/02-vector-add-prefetch-solution-cpu-also.cu) if you get stuck."
   ]
  },
  {
   "cell_type": "code",
   "execution_count": null,
   "metadata": {},
   "outputs": [],
   "source": [
    "!nvcc -arch=sm_61 -o prefetch-to-cpu 01-vector-add.cu -run"
   ]
  },
  {
   "cell_type": "code",
   "execution_count": 11,
   "metadata": {},
   "outputs": [
    {
     "name": "stdout",
     "output_type": "stream",
     "text": [
      "Device ID: 0\tNumber of SMs: 20\n",
      "Success! All values calculated correctly.\n"
     ]
    }
   ],
   "source": [
    "!nvcc -arch=sm_61 -o prefetch-to-cpu solutions/02-vector-add-prefetch-solution-cpu-also.cu    -run"
   ]
  },
  {
   "cell_type": "code",
   "execution_count": 18,
   "metadata": {},
   "outputs": [
    {
     "name": "stdout",
     "output_type": "stream",
     "text": [
      "==12483== NVPROF is profiling process 12483, command: ./prefetch-to-cpu\n",
      "Device ID: 0\tNumber of SMs: 20\n",
      "Success! All values calculated correctly.\n",
      "==12483== Profiling application: ./prefetch-to-cpu\n",
      "==12483== Profiling result:\n",
      "            Type  Time(%)      Time     Calls       Avg       Min       Max  Name\n",
      " GPU activities:  100.00%  1.6905ms         1  1.6905ms  1.6905ms  1.6905ms  addVectorsInto(float*, float*, float*, int)\n",
      "      API calls:   55.90%  201.17ms         3  67.058ms  3.9159ms  193.06ms  cudaMallocManaged\n",
      "                   19.59%  70.482ms         7  10.069ms  12.306us  21.845ms  cudaMemPrefetchAsync\n",
      "                   17.43%  62.735ms         1  62.735ms  62.735ms  62.735ms  cudaDeviceSynchronize\n",
      "                    6.53%  23.495ms         3  7.8317ms  7.4469ms  8.2930ms  cudaFree\n",
      "                    0.45%  1.6325ms       192  8.5020us     135ns  724.63us  cuDeviceGetAttribute\n",
      "                    0.05%  188.19us         2  94.093us  92.412us  95.774us  cuDeviceTotalMem\n",
      "                    0.03%  98.173us         2  49.086us  44.717us  53.456us  cuDeviceGetName\n",
      "                    0.01%  41.742us         1  41.742us  41.742us  41.742us  cudaLaunchKernel\n",
      "                    0.00%  6.9580us         2  3.4790us  2.6980us  4.2600us  cuDeviceGetPCIBusId\n",
      "                    0.00%  2.4030us         1  2.4030us  2.4030us  2.4030us  cudaGetDevice\n",
      "                    0.00%  2.0900us         4     522ns     194ns     963ns  cuDeviceGet\n",
      "                    0.00%  1.8630us         3     621ns     128ns     896ns  cuDeviceGetCount\n",
      "                    0.00%     459ns         1     459ns     459ns     459ns  cudaDeviceGetAttribute\n",
      "                    0.00%     431ns         2     215ns     200ns     231ns  cuDeviceGetUuid\n",
      "                    0.00%     392ns         1     392ns     392ns     392ns  cudaGetLastError\n",
      "\n",
      "==12483== Unified Memory profiling result:\n",
      "Device \"GeForce GTX 1080 (0)\"\n",
      "   Count  Avg Size  Min Size  Max Size  Total Size  Total Time  Name\n",
      "     192  2.0000MB  2.0000MB  2.0000MB  384.0000MB  66.72944ms  Host To Device\n",
      "      64  2.0000MB  2.0000MB  2.0000MB  128.0000MB  21.60410ms  Device To Host\n"
     ]
    }
   ],
   "source": [
    "!nvprof --track-memory-allocations on ./prefetch-to-cpu"
   ]
  },
  {
   "cell_type": "code",
   "execution_count": 19,
   "metadata": {},
   "outputs": [
    {
     "name": "stdout",
     "output_type": "stream",
     "text": [
      "==12522== NVPROF is profiling process 12522, command: ./prefetch-to-cpu\n",
      "Device ID: 0\tNumber of SMs: 20\n",
      "Success! All values calculated correctly.\n",
      "==12522== Profiling application: ./prefetch-to-cpu\n",
      "==12522== Profiling result:\n",
      "   Start  Duration            Grid Size      Block Size     Regs*    SSMem*    DSMem*           Device   Context    Stream        Unified Memory  Virtual Address  Name\n",
      "584.65ms  327.33us                    -               -         -         -         -  GeForce GTX 108         -         -            2.000000MB   0x7fe5e2000000  [Unified Memory Memcpy HtoD]\n",
      "584.98ms  327.23us                    -               -         -         -         -  GeForce GTX 108         -         -            2.000000MB   0x7fe5e2200000  [Unified Memory Memcpy HtoD]\n",
      "585.31ms  327.20us                    -               -         -         -         -  GeForce GTX 108         -         -            2.000000MB   0x7fe5e2400000  [Unified Memory Memcpy HtoD]\n",
      "585.64ms  357.38us                    -               -         -         -         -  GeForce GTX 108         -         -            2.000000MB   0x7fe5e2600000  [Unified Memory Memcpy HtoD]\n",
      "586.00ms  349.22us                    -               -         -         -         -  GeForce GTX 108         -         -            2.000000MB   0x7fe5e2800000  [Unified Memory Memcpy HtoD]\n",
      "586.35ms  327.33us                    -               -         -         -         -  GeForce GTX 108         -         -            2.000000MB   0x7fe5e2a00000  [Unified Memory Memcpy HtoD]\n",
      "586.67ms  327.10us                    -               -         -         -         -  GeForce GTX 108         -         -            2.000000MB   0x7fe5e2c00000  [Unified Memory Memcpy HtoD]\n",
      "587.00ms  327.20us                    -               -         -         -         -  GeForce GTX 108         -         -            2.000000MB   0x7fe5e2e00000  [Unified Memory Memcpy HtoD]\n",
      "587.33ms  374.50us                    -               -         -         -         -  GeForce GTX 108         -         -            2.000000MB   0x7fe5e3000000  [Unified Memory Memcpy HtoD]\n",
      "587.71ms  365.76us                    -               -         -         -         -  GeForce GTX 108         -         -            2.000000MB   0x7fe5e3200000  [Unified Memory Memcpy HtoD]\n",
      "588.07ms  404.35us                    -               -         -         -         -  GeForce GTX 108         -         -            2.000000MB   0x7fe5e3400000  [Unified Memory Memcpy HtoD]\n",
      "588.48ms  327.23us                    -               -         -         -         -  GeForce GTX 108         -         -            2.000000MB   0x7fe5e3600000  [Unified Memory Memcpy HtoD]\n",
      "588.81ms  327.23us                    -               -         -         -         -  GeForce GTX 108         -         -            2.000000MB   0x7fe5e3800000  [Unified Memory Memcpy HtoD]\n",
      "589.13ms  327.17us                    -               -         -         -         -  GeForce GTX 108         -         -            2.000000MB   0x7fe5e3a00000  [Unified Memory Memcpy HtoD]\n",
      "589.46ms  327.10us                    -               -         -         -         -  GeForce GTX 108         -         -            2.000000MB   0x7fe5e3c00000  [Unified Memory Memcpy HtoD]\n",
      "589.79ms  327.52us                    -               -         -         -         -  GeForce GTX 108         -         -            2.000000MB   0x7fe5e3e00000  [Unified Memory Memcpy HtoD]\n",
      "590.12ms  327.20us                    -               -         -         -         -  GeForce GTX 108         -         -            2.000000MB   0x7fe5e4000000  [Unified Memory Memcpy HtoD]\n",
      "590.45ms  327.17us                    -               -         -         -         -  GeForce GTX 108         -         -            2.000000MB   0x7fe5e4200000  [Unified Memory Memcpy HtoD]\n",
      "590.78ms  327.42us                    -               -         -         -         -  GeForce GTX 108         -         -            2.000000MB   0x7fe5e4400000  [Unified Memory Memcpy HtoD]\n",
      "591.10ms  360.58us                    -               -         -         -         -  GeForce GTX 108         -         -            2.000000MB   0x7fe5e4600000  [Unified Memory Memcpy HtoD]\n",
      "591.47ms  339.42us                    -               -         -         -         -  GeForce GTX 108         -         -            2.000000MB   0x7fe5e4800000  [Unified Memory Memcpy HtoD]\n",
      "591.81ms  330.34us                    -               -         -         -         -  GeForce GTX 108         -         -            2.000000MB   0x7fe5e4a00000  [Unified Memory Memcpy HtoD]\n",
      "592.14ms  344.00us                    -               -         -         -         -  GeForce GTX 108         -         -            2.000000MB   0x7fe5e4c00000  [Unified Memory Memcpy HtoD]\n",
      "592.48ms  399.23us                    -               -         -         -         -  GeForce GTX 108         -         -            2.000000MB   0x7fe5e4e00000  [Unified Memory Memcpy HtoD]\n",
      "592.88ms  360.77us                    -               -         -         -         -  GeForce GTX 108         -         -            2.000000MB   0x7fe5e5000000  [Unified Memory Memcpy HtoD]\n",
      "593.25ms  352.48us                    -               -         -         -         -  GeForce GTX 108         -         -            2.000000MB   0x7fe5e5200000  [Unified Memory Memcpy HtoD]\n",
      "593.60ms  391.65us                    -               -         -         -         -  GeForce GTX 108         -         -            2.000000MB   0x7fe5e5400000  [Unified Memory Memcpy HtoD]\n",
      "593.99ms  338.75us                    -               -         -         -         -  GeForce GTX 108         -         -            2.000000MB   0x7fe5e5600000  [Unified Memory Memcpy HtoD]\n",
      "594.33ms  330.82us                    -               -         -         -         -  GeForce GTX 108         -         -            2.000000MB   0x7fe5e5800000  [Unified Memory Memcpy HtoD]\n",
      "594.66ms  330.46us                    -               -         -         -         -  GeForce GTX 108         -         -            2.000000MB   0x7fe5e5a00000  [Unified Memory Memcpy HtoD]\n",
      "595.00ms  330.40us                    -               -         -         -         -  GeForce GTX 108         -         -            2.000000MB   0x7fe5e5c00000  [Unified Memory Memcpy HtoD]\n",
      "595.33ms  330.37us                    -               -         -         -         -  GeForce GTX 108         -         -            2.000000MB   0x7fe5e5e00000  [Unified Memory Memcpy HtoD]\n",
      "595.66ms  330.43us                    -               -         -         -         -  GeForce GTX 108         -         -            2.000000MB   0x7fe5e6000000  [Unified Memory Memcpy HtoD]\n",
      "595.99ms  330.21us                    -               -         -         -         -  GeForce GTX 108         -         -            2.000000MB   0x7fe5e6200000  [Unified Memory Memcpy HtoD]\n",
      "596.32ms  330.46us                    -               -         -         -         -  GeForce GTX 108         -         -            2.000000MB   0x7fe5e6400000  [Unified Memory Memcpy HtoD]\n",
      "596.65ms  330.37us                    -               -         -         -         -  GeForce GTX 108         -         -            2.000000MB   0x7fe5e6600000  [Unified Memory Memcpy HtoD]\n",
      "596.98ms  391.04us                    -               -         -         -         -  GeForce GTX 108         -         -            2.000000MB   0x7fe5e6800000  [Unified Memory Memcpy HtoD]\n",
      "597.38ms  330.34us                    -               -         -         -         -  GeForce GTX 108         -         -            2.000000MB   0x7fe5e6a00000  [Unified Memory Memcpy HtoD]\n",
      "597.71ms  352.22us                    -               -         -         -         -  GeForce GTX 108         -         -            2.000000MB   0x7fe5e6c00000  [Unified Memory Memcpy HtoD]\n",
      "598.06ms  382.53us                    -               -         -         -         -  GeForce GTX 108         -         -            2.000000MB   0x7fe5e6e00000  [Unified Memory Memcpy HtoD]\n",
      "598.44ms  391.46us                    -               -         -         -         -  GeForce GTX 108         -         -            2.000000MB   0x7fe5e7000000  [Unified Memory Memcpy HtoD]\n",
      "598.84ms  361.22us                    -               -         -         -         -  GeForce GTX 108         -         -            2.000000MB   0x7fe5e7200000  [Unified Memory Memcpy HtoD]\n",
      "599.20ms  330.43us                    -               -         -         -         -  GeForce GTX 108         -         -            2.000000MB   0x7fe5e7400000  [Unified Memory Memcpy HtoD]\n",
      "599.53ms  330.46us                    -               -         -         -         -  GeForce GTX 108         -         -            2.000000MB   0x7fe5e7600000  [Unified Memory Memcpy HtoD]\n",
      "599.86ms  330.40us                    -               -         -         -         -  GeForce GTX 108         -         -            2.000000MB   0x7fe5e7800000  [Unified Memory Memcpy HtoD]\n",
      "600.19ms  360.61us                    -               -         -         -         -  GeForce GTX 108         -         -            2.000000MB   0x7fe5e7a00000  [Unified Memory Memcpy HtoD]\n",
      "600.56ms  338.69us                    -               -         -         -         -  GeForce GTX 108         -         -            2.000000MB   0x7fe5e7c00000  [Unified Memory Memcpy HtoD]\n",
      "600.90ms  330.46us                    -               -         -         -         -  GeForce GTX 108         -         -            2.000000MB   0x7fe5e7e00000  [Unified Memory Memcpy HtoD]\n",
      "601.23ms  330.43us                    -               -         -         -         -  GeForce GTX 108         -         -            2.000000MB   0x7fe5e8000000  [Unified Memory Memcpy HtoD]\n",
      "601.56ms  330.53us                    -               -         -         -         -  GeForce GTX 108         -         -            2.000000MB   0x7fe5e8200000  [Unified Memory Memcpy HtoD]\n",
      "601.89ms  407.17us                    -               -         -         -         -  GeForce GTX 108         -         -            2.000000MB   0x7fe5e8400000  [Unified Memory Memcpy HtoD]\n",
      "602.30ms  330.37us                    -               -         -         -         -  GeForce GTX 108         -         -            2.000000MB   0x7fe5e8600000  [Unified Memory Memcpy HtoD]\n",
      "602.63ms  330.34us                    -               -         -         -         -  GeForce GTX 108         -         -            2.000000MB   0x7fe5e8800000  [Unified Memory Memcpy HtoD]\n",
      "602.96ms  330.43us                    -               -         -         -         -  GeForce GTX 108         -         -            2.000000MB   0x7fe5e8a00000  [Unified Memory Memcpy HtoD]\n",
      "603.29ms  352.29us                    -               -         -         -         -  GeForce GTX 108         -         -            2.000000MB   0x7fe5e8c00000  [Unified Memory Memcpy HtoD]\n",
      "603.65ms  330.37us                    -               -         -         -         -  GeForce GTX 108         -         -            2.000000MB   0x7fe5e8e00000  [Unified Memory Memcpy HtoD]\n",
      "603.98ms  330.34us                    -               -         -         -         -  GeForce GTX 108         -         -            2.000000MB   0x7fe5e9000000  [Unified Memory Memcpy HtoD]\n",
      "604.31ms  330.34us                    -               -         -         -         -  GeForce GTX 108         -         -            2.000000MB   0x7fe5e9200000  [Unified Memory Memcpy HtoD]\n",
      "604.64ms  330.43us                    -               -         -         -         -  GeForce GTX 108         -         -            2.000000MB   0x7fe5e9400000  [Unified Memory Memcpy HtoD]\n",
      "604.97ms  330.27us                    -               -         -         -         -  GeForce GTX 108         -         -            2.000000MB   0x7fe5e9600000  [Unified Memory Memcpy HtoD]\n",
      "605.30ms  330.27us                    -               -         -         -         -  GeForce GTX 108         -         -            2.000000MB   0x7fe5e9800000  [Unified Memory Memcpy HtoD]\n",
      "605.63ms  330.21us                    -               -         -         -         -  GeForce GTX 108         -         -            2.000000MB   0x7fe5e9a00000  [Unified Memory Memcpy HtoD]\n",
      "605.97ms  330.50us                    -               -         -         -         -  GeForce GTX 108         -         -            2.000000MB   0x7fe5e9c00000  [Unified Memory Memcpy HtoD]\n",
      "606.30ms  330.56us                    -               -         -         -         -  GeForce GTX 108         -         -            2.000000MB   0x7fe5e9e00000  [Unified Memory Memcpy HtoD]\n",
      "607.12ms  339.55us                    -               -         -         -         -  GeForce GTX 108         -         -            2.000000MB   0x7fe5da000000  [Unified Memory Memcpy HtoD]\n",
      "607.46ms  330.72us                    -               -         -         -         -  GeForce GTX 108         -         -            2.000000MB   0x7fe5da200000  [Unified Memory Memcpy HtoD]\n",
      "607.79ms  360.90us                    -               -         -         -         -  GeForce GTX 108         -         -            2.000000MB   0x7fe5da400000  [Unified Memory Memcpy HtoD]\n",
      "608.15ms  330.66us                    -               -         -         -         -  GeForce GTX 108         -         -            2.000000MB   0x7fe5da600000  [Unified Memory Memcpy HtoD]\n",
      "608.48ms  391.97us                    -               -         -         -         -  GeForce GTX 108         -         -            2.000000MB   0x7fe5da800000  [Unified Memory Memcpy HtoD]\n",
      "608.88ms  361.06us                    -               -         -         -         -  GeForce GTX 108         -         -            2.000000MB   0x7fe5daa00000  [Unified Memory Memcpy HtoD]\n",
      "609.24ms  366.46us                    -               -         -         -         -  GeForce GTX 108         -         -            2.000000MB   0x7fe5dac00000  [Unified Memory Memcpy HtoD]\n",
      "609.61ms  378.75us                    -               -         -         -         -  GeForce GTX 108         -         -            2.000000MB   0x7fe5dae00000  [Unified Memory Memcpy HtoD]\n",
      "609.99ms  347.42us                    -               -         -         -         -  GeForce GTX 108         -         -            2.000000MB   0x7fe5db000000  [Unified Memory Memcpy HtoD]\n",
      "610.33ms  352.77us                    -               -         -         -         -  GeForce GTX 108         -         -            2.000000MB   0x7fe5db200000  [Unified Memory Memcpy HtoD]\n",
      "610.69ms  330.91us                    -               -         -         -         -  GeForce GTX 108         -         -            2.000000MB   0x7fe5db400000  [Unified Memory Memcpy HtoD]\n",
      "611.02ms  361.34us                    -               -         -         -         -  GeForce GTX 108         -         -            2.000000MB   0x7fe5db600000  [Unified Memory Memcpy HtoD]\n",
      "611.38ms  416.54us                    -               -         -         -         -  GeForce GTX 108         -         -            2.000000MB   0x7fe5db800000  [Unified Memory Memcpy HtoD]\n",
      "611.80ms  330.75us                    -               -         -         -         -  GeForce GTX 108         -         -            2.000000MB   0x7fe5dba00000  [Unified Memory Memcpy HtoD]\n",
      "612.13ms  360.93us                    -               -         -         -         -  GeForce GTX 108         -         -            2.000000MB   0x7fe5dbc00000  [Unified Memory Memcpy HtoD]\n",
      "612.49ms  355.65us                    -               -         -         -         -  GeForce GTX 108         -         -            2.000000MB   0x7fe5dbe00000  [Unified Memory Memcpy HtoD]\n",
      "612.85ms  352.83us                    -               -         -         -         -  GeForce GTX 108         -         -            2.000000MB   0x7fe5dc000000  [Unified Memory Memcpy HtoD]\n",
      "613.21ms  408.35us                    -               -         -         -         -  GeForce GTX 108         -         -            2.000000MB   0x7fe5dc200000  [Unified Memory Memcpy HtoD]\n",
      "613.61ms  386.24us                    -               -         -         -         -  GeForce GTX 108         -         -            2.000000MB   0x7fe5dc400000  [Unified Memory Memcpy HtoD]\n",
      "614.00ms  330.85us                    -               -         -         -         -  GeForce GTX 108         -         -            2.000000MB   0x7fe5dc600000  [Unified Memory Memcpy HtoD]\n",
      "614.33ms  377.54us                    -               -         -         -         -  GeForce GTX 108         -         -            2.000000MB   0x7fe5dc800000  [Unified Memory Memcpy HtoD]\n",
      "614.71ms  360.90us                    -               -         -         -         -  GeForce GTX 108         -         -            2.000000MB   0x7fe5dca00000  [Unified Memory Memcpy HtoD]\n",
      "615.07ms  330.53us                    -               -         -         -         -  GeForce GTX 108         -         -            2.000000MB   0x7fe5dcc00000  [Unified Memory Memcpy HtoD]\n",
      "615.41ms  330.69us                    -               -         -         -         -  GeForce GTX 108         -         -            2.000000MB   0x7fe5dce00000  [Unified Memory Memcpy HtoD]\n",
      "615.74ms  330.66us                    -               -         -         -         -  GeForce GTX 108         -         -            2.000000MB   0x7fe5dd000000  [Unified Memory Memcpy HtoD]\n",
      "616.07ms  344.19us                    -               -         -         -         -  GeForce GTX 108         -         -            2.000000MB   0x7fe5dd200000  [Unified Memory Memcpy HtoD]\n",
      "616.41ms  391.33us                    -               -         -         -         -  GeForce GTX 108         -         -            2.000000MB   0x7fe5dd400000  [Unified Memory Memcpy HtoD]\n",
      "616.81ms  330.88us                    -               -         -         -         -  GeForce GTX 108         -         -            2.000000MB   0x7fe5dd600000  [Unified Memory Memcpy HtoD]\n",
      "617.14ms  330.59us                    -               -         -         -         -  GeForce GTX 108         -         -            2.000000MB   0x7fe5dd800000  [Unified Memory Memcpy HtoD]\n",
      "617.47ms  369.38us                    -               -         -         -         -  GeForce GTX 108         -         -            2.000000MB   0x7fe5dda00000  [Unified Memory Memcpy HtoD]\n",
      "617.84ms  330.66us                    -               -         -         -         -  GeForce GTX 108         -         -            2.000000MB   0x7fe5ddc00000  [Unified Memory Memcpy HtoD]\n",
      "618.17ms  360.67us                    -               -         -         -         -  GeForce GTX 108         -         -            2.000000MB   0x7fe5dde00000  [Unified Memory Memcpy HtoD]\n",
      "618.53ms  330.62us                    -               -         -         -         -  GeForce GTX 108         -         -            2.000000MB   0x7fe5de000000  [Unified Memory Memcpy HtoD]\n",
      "618.87ms  405.34us                    -               -         -         -         -  GeForce GTX 108         -         -            2.000000MB   0x7fe5de200000  [Unified Memory Memcpy HtoD]\n",
      "619.27ms  339.10us                    -               -         -         -         -  GeForce GTX 108         -         -            2.000000MB   0x7fe5de400000  [Unified Memory Memcpy HtoD]\n",
      "619.61ms  330.85us                    -               -         -         -         -  GeForce GTX 108         -         -            2.000000MB   0x7fe5de600000  [Unified Memory Memcpy HtoD]\n",
      "619.95ms  330.98us                    -               -         -         -         -  GeForce GTX 108         -         -            2.000000MB   0x7fe5de800000  [Unified Memory Memcpy HtoD]\n",
      "620.28ms  366.56us                    -               -         -         -         -  GeForce GTX 108         -         -            2.000000MB   0x7fe5dea00000  [Unified Memory Memcpy HtoD]\n",
      "620.64ms  399.33us                    -               -         -         -         -  GeForce GTX 108         -         -            2.000000MB   0x7fe5dec00000  [Unified Memory Memcpy HtoD]\n",
      "621.06ms  342.37us                    -               -         -         -         -  GeForce GTX 108         -         -            2.000000MB   0x7fe5dee00000  [Unified Memory Memcpy HtoD]\n",
      "621.40ms  330.59us                    -               -         -         -         -  GeForce GTX 108         -         -            2.000000MB   0x7fe5df000000  [Unified Memory Memcpy HtoD]\n",
      "621.73ms  330.85us                    -               -         -         -         -  GeForce GTX 108         -         -            2.000000MB   0x7fe5df200000  [Unified Memory Memcpy HtoD]\n",
      "622.06ms  330.66us                    -               -         -         -         -  GeForce GTX 108         -         -            2.000000MB   0x7fe5df400000  [Unified Memory Memcpy HtoD]\n",
      "622.39ms  352.45us                    -               -         -         -         -  GeForce GTX 108         -         -            2.000000MB   0x7fe5df600000  [Unified Memory Memcpy HtoD]\n",
      "622.75ms  330.59us                    -               -         -         -         -  GeForce GTX 108         -         -            2.000000MB   0x7fe5df800000  [Unified Memory Memcpy HtoD]\n",
      "623.08ms  360.93us                    -               -         -         -         -  GeForce GTX 108         -         -            2.000000MB   0x7fe5dfa00000  [Unified Memory Memcpy HtoD]\n",
      "623.44ms  352.38us                    -               -         -         -         -  GeForce GTX 108         -         -            2.000000MB   0x7fe5dfc00000  [Unified Memory Memcpy HtoD]\n",
      "623.80ms  330.69us                    -               -         -         -         -  GeForce GTX 108         -         -            2.000000MB   0x7fe5dfe00000  [Unified Memory Memcpy HtoD]\n",
      "624.13ms  382.88us                    -               -         -         -         -  GeForce GTX 108         -         -            2.000000MB   0x7fe5e0000000  [Unified Memory Memcpy HtoD]\n",
      "624.51ms  355.52us                    -               -         -         -         -  GeForce GTX 108         -         -            2.000000MB   0x7fe5e0200000  [Unified Memory Memcpy HtoD]\n",
      "624.87ms  330.75us                    -               -         -         -         -  GeForce GTX 108         -         -            2.000000MB   0x7fe5e0400000  [Unified Memory Memcpy HtoD]\n",
      "625.20ms  330.59us                    -               -         -         -         -  GeForce GTX 108         -         -            2.000000MB   0x7fe5e0600000  [Unified Memory Memcpy HtoD]\n",
      "625.53ms  377.54us                    -               -         -         -         -  GeForce GTX 108         -         -            2.000000MB   0x7fe5e0800000  [Unified Memory Memcpy HtoD]\n",
      "625.92ms  359.39us                    -               -         -         -         -  GeForce GTX 108         -         -            2.000000MB   0x7fe5e0a00000  [Unified Memory Memcpy HtoD]\n",
      "626.28ms  330.78us                    -               -         -         -         -  GeForce GTX 108         -         -            2.000000MB   0x7fe5e0c00000  [Unified Memory Memcpy HtoD]\n",
      "626.61ms  408.03us                    -               -         -         -         -  GeForce GTX 108         -         -            2.000000MB   0x7fe5e0e00000  [Unified Memory Memcpy HtoD]\n",
      "627.02ms  358.46us                    -               -         -         -         -  GeForce GTX 108         -         -            2.000000MB   0x7fe5e1000000  [Unified Memory Memcpy HtoD]\n",
      "627.38ms  330.66us                    -               -         -         -         -  GeForce GTX 108         -         -            2.000000MB   0x7fe5e1200000  [Unified Memory Memcpy HtoD]\n",
      "627.72ms  330.78us                    -               -         -         -         -  GeForce GTX 108         -         -            2.000000MB   0x7fe5e1400000  [Unified Memory Memcpy HtoD]\n",
      "628.05ms  331.26us                    -               -         -         -         -  GeForce GTX 108         -         -            2.000000MB   0x7fe5e1600000  [Unified Memory Memcpy HtoD]\n",
      "628.38ms  361.09us                    -               -         -         -         -  GeForce GTX 108         -         -            2.000000MB   0x7fe5e1800000  [Unified Memory Memcpy HtoD]\n",
      "628.74ms  330.85us                    -               -         -         -         -  GeForce GTX 108         -         -            2.000000MB   0x7fe5e1a00000  [Unified Memory Memcpy HtoD]\n",
      "629.07ms  391.33us                    -               -         -         -         -  GeForce GTX 108         -         -            2.000000MB   0x7fe5e1c00000  [Unified Memory Memcpy HtoD]\n",
      "629.47ms  369.60us                    -               -         -         -         -  GeForce GTX 108         -         -            2.000000MB   0x7fe5e1e00000  [Unified Memory Memcpy HtoD]\n",
      "630.19ms  433.63us                    -               -         -         -         -  GeForce GTX 108         -         -            2.000000MB   0x7fe5d2000000  [Unified Memory Memcpy HtoD]\n",
      "630.62ms  327.78us                    -               -         -         -         -  GeForce GTX 108         -         -            2.000000MB   0x7fe5d2200000  [Unified Memory Memcpy HtoD]\n",
      "630.95ms  327.87us                    -               -         -         -         -  GeForce GTX 108         -         -            2.000000MB   0x7fe5d2400000  [Unified Memory Memcpy HtoD]\n",
      "631.28ms  327.81us                    -               -         -         -         -  GeForce GTX 108         -         -            2.000000MB   0x7fe5d2600000  [Unified Memory Memcpy HtoD]\n",
      "631.61ms  327.78us                    -               -         -         -         -  GeForce GTX 108         -         -            2.000000MB   0x7fe5d2800000  [Unified Memory Memcpy HtoD]\n",
      "631.94ms  327.74us                    -               -         -         -         -  GeForce GTX 108         -         -            2.000000MB   0x7fe5d2a00000  [Unified Memory Memcpy HtoD]\n",
      "632.27ms  327.81us                    -               -         -         -         -  GeForce GTX 108         -         -            2.000000MB   0x7fe5d2c00000  [Unified Memory Memcpy HtoD]\n",
      "632.60ms  327.71us                    -               -         -         -         -  GeForce GTX 108         -         -            2.000000MB   0x7fe5d2e00000  [Unified Memory Memcpy HtoD]\n",
      "632.93ms  357.86us                    -               -         -         -         -  GeForce GTX 108         -         -            2.000000MB   0x7fe5d3000000  [Unified Memory Memcpy HtoD]\n",
      "633.28ms  328.13us                    -               -         -         -         -  GeForce GTX 108         -         -            2.000000MB   0x7fe5d3200000  [Unified Memory Memcpy HtoD]\n",
      "633.61ms  366.21us                    -               -         -         -         -  GeForce GTX 108         -         -            2.000000MB   0x7fe5d3400000  [Unified Memory Memcpy HtoD]\n",
      "633.98ms  327.78us                    -               -         -         -         -  GeForce GTX 108         -         -            2.000000MB   0x7fe5d3600000  [Unified Memory Memcpy HtoD]\n",
      "634.31ms  371.49us                    -               -         -         -         -  GeForce GTX 108         -         -            2.000000MB   0x7fe5d3800000  [Unified Memory Memcpy HtoD]\n",
      "634.68ms  460.16us                    -               -         -         -         -  GeForce GTX 108         -         -            2.000000MB   0x7fe5d3a00000  [Unified Memory Memcpy HtoD]\n",
      "635.14ms  369.09us                    -               -         -         -         -  GeForce GTX 108         -         -            2.000000MB   0x7fe5d3c00000  [Unified Memory Memcpy HtoD]\n",
      "635.51ms  327.84us                    -               -         -         -         -  GeForce GTX 108         -         -            2.000000MB   0x7fe5d3e00000  [Unified Memory Memcpy HtoD]\n",
      "635.84ms  327.78us                    -               -         -         -         -  GeForce GTX 108         -         -            2.000000MB   0x7fe5d4000000  [Unified Memory Memcpy HtoD]\n",
      "636.17ms  349.60us                    -               -         -         -         -  GeForce GTX 108         -         -            2.000000MB   0x7fe5d4200000  [Unified Memory Memcpy HtoD]\n",
      "636.52ms  349.63us                    -               -         -         -         -  GeForce GTX 108         -         -            2.000000MB   0x7fe5d4400000  [Unified Memory Memcpy HtoD]\n",
      "636.87ms  336.32us                    -               -         -         -         -  GeForce GTX 108         -         -            2.000000MB   0x7fe5d4600000  [Unified Memory Memcpy HtoD]\n",
      "637.21ms  327.68us                    -               -         -         -         -  GeForce GTX 108         -         -            2.000000MB   0x7fe5d4800000  [Unified Memory Memcpy HtoD]\n",
      "637.54ms  360.77us                    -               -         -         -         -  GeForce GTX 108         -         -            2.000000MB   0x7fe5d4a00000  [Unified Memory Memcpy HtoD]\n",
      "637.90ms  362.98us                    -               -         -         -         -  GeForce GTX 108         -         -            2.000000MB   0x7fe5d4c00000  [Unified Memory Memcpy HtoD]\n",
      "638.27ms  336.13us                    -               -         -         -         -  GeForce GTX 108         -         -            2.000000MB   0x7fe5d4e00000  [Unified Memory Memcpy HtoD]\n",
      "638.60ms  371.81us                    -               -         -         -         -  GeForce GTX 108         -         -            2.000000MB   0x7fe5d5000000  [Unified Memory Memcpy HtoD]\n",
      "638.98ms  366.50us                    -               -         -         -         -  GeForce GTX 108         -         -            2.000000MB   0x7fe5d5200000  [Unified Memory Memcpy HtoD]\n",
      "639.34ms  358.30us                    -               -         -         -         -  GeForce GTX 108         -         -            2.000000MB   0x7fe5d5400000  [Unified Memory Memcpy HtoD]\n",
      "639.71ms  344.64us                    -               -         -         -         -  GeForce GTX 108         -         -            2.000000MB   0x7fe5d5600000  [Unified Memory Memcpy HtoD]\n",
      "640.06ms  374.69us                    -               -         -         -         -  GeForce GTX 108         -         -            2.000000MB   0x7fe5d5800000  [Unified Memory Memcpy HtoD]\n",
      "640.43ms  383.68us                    -               -         -         -         -  GeForce GTX 108         -         -            2.000000MB   0x7fe5d5a00000  [Unified Memory Memcpy HtoD]\n",
      "640.82ms  353.12us                    -               -         -         -         -  GeForce GTX 108         -         -            2.000000MB   0x7fe5d5c00000  [Unified Memory Memcpy HtoD]\n",
      "641.17ms  327.74us                    -               -         -         -         -  GeForce GTX 108         -         -            2.000000MB   0x7fe5d5e00000  [Unified Memory Memcpy HtoD]\n",
      "641.50ms  358.24us                    -               -         -         -         -  GeForce GTX 108         -         -            2.000000MB   0x7fe5d6000000  [Unified Memory Memcpy HtoD]\n",
      "641.86ms  336.06us                    -               -         -         -         -  GeForce GTX 108         -         -            2.000000MB   0x7fe5d6200000  [Unified Memory Memcpy HtoD]\n",
      "642.20ms  327.74us                    -               -         -         -         -  GeForce GTX 108         -         -            2.000000MB   0x7fe5d6400000  [Unified Memory Memcpy HtoD]\n",
      "642.53ms  371.68us                    -               -         -         -         -  GeForce GTX 108         -         -            2.000000MB   0x7fe5d6600000  [Unified Memory Memcpy HtoD]\n",
      "642.90ms  358.50us                    -               -         -         -         -  GeForce GTX 108         -         -            2.000000MB   0x7fe5d6800000  [Unified Memory Memcpy HtoD]\n",
      "643.26ms  352.83us                    -               -         -         -         -  GeForce GTX 108         -         -            2.000000MB   0x7fe5d6a00000  [Unified Memory Memcpy HtoD]\n",
      "643.61ms  327.68us                    -               -         -         -         -  GeForce GTX 108         -         -            2.000000MB   0x7fe5d6c00000  [Unified Memory Memcpy HtoD]\n",
      "643.94ms  327.84us                    -               -         -         -         -  GeForce GTX 108         -         -            2.000000MB   0x7fe5d6e00000  [Unified Memory Memcpy HtoD]\n",
      "644.27ms  327.84us                    -               -         -         -         -  GeForce GTX 108         -         -            2.000000MB   0x7fe5d7000000  [Unified Memory Memcpy HtoD]\n",
      "644.60ms  418.30us                    -               -         -         -         -  GeForce GTX 108         -         -            2.000000MB   0x7fe5d7200000  [Unified Memory Memcpy HtoD]\n",
      "645.02ms  349.54us                    -               -         -         -         -  GeForce GTX 108         -         -            2.000000MB   0x7fe5d7400000  [Unified Memory Memcpy HtoD]\n",
      "645.38ms  467.71us                    -               -         -         -         -  GeForce GTX 108         -         -            2.000000MB   0x7fe5d7600000  [Unified Memory Memcpy HtoD]\n",
      "645.86ms  376.22us                    -               -         -         -         -  GeForce GTX 108         -         -            2.000000MB   0x7fe5d7800000  [Unified Memory Memcpy HtoD]\n",
      "646.24ms  386.66us                    -               -         -         -         -  GeForce GTX 108         -         -            2.000000MB   0x7fe5d7a00000  [Unified Memory Memcpy HtoD]\n",
      "646.62ms  402.78us                    -               -         -         -         -  GeForce GTX 108         -         -            2.000000MB   0x7fe5d7c00000  [Unified Memory Memcpy HtoD]\n",
      "647.03ms  390.02us                    -               -         -         -         -  GeForce GTX 108         -         -            2.000000MB   0x7fe5d7e00000  [Unified Memory Memcpy HtoD]\n",
      "647.42ms  385.73us                    -               -         -         -         -  GeForce GTX 108         -         -            2.000000MB   0x7fe5d8000000  [Unified Memory Memcpy HtoD]\n",
      "647.81ms  435.07us                    -               -         -         -         -  GeForce GTX 108         -         -            2.000000MB   0x7fe5d8200000  [Unified Memory Memcpy HtoD]\n",
      "648.24ms  369.50us                    -               -         -         -         -  GeForce GTX 108         -         -            2.000000MB   0x7fe5d8400000  [Unified Memory Memcpy HtoD]\n",
      "648.61ms  386.78us                    -               -         -         -         -  GeForce GTX 108         -         -            2.000000MB   0x7fe5d8600000  [Unified Memory Memcpy HtoD]\n",
      "649.00ms  383.65us                    -               -         -         -         -  GeForce GTX 108         -         -            2.000000MB   0x7fe5d8800000  [Unified Memory Memcpy HtoD]\n",
      "649.39ms  392.70us                    -               -         -         -         -  GeForce GTX 108         -         -            2.000000MB   0x7fe5d8a00000  [Unified Memory Memcpy HtoD]\n",
      "649.78ms  395.30us                    -               -         -         -         -  GeForce GTX 108         -         -            2.000000MB   0x7fe5d8c00000  [Unified Memory Memcpy HtoD]\n",
      "650.18ms  409.76us                    -               -         -         -         -  GeForce GTX 108         -         -            2.000000MB   0x7fe5d8e00000  [Unified Memory Memcpy HtoD]\n",
      "650.59ms  346.50us                    -               -         -         -         -  GeForce GTX 108         -         -            2.000000MB   0x7fe5d9000000  [Unified Memory Memcpy HtoD]\n",
      "650.94ms  374.08us                    -               -         -         -         -  GeForce GTX 108         -         -            2.000000MB   0x7fe5d9200000  [Unified Memory Memcpy HtoD]\n",
      "651.31ms  345.44us                    -               -         -         -         -  GeForce GTX 108         -         -            2.000000MB   0x7fe5d9400000  [Unified Memory Memcpy HtoD]\n",
      "651.66ms  350.59us                    -               -         -         -         -  GeForce GTX 108         -         -            2.000000MB   0x7fe5d9600000  [Unified Memory Memcpy HtoD]\n",
      "652.01ms  346.75us                    -               -         -         -         -  GeForce GTX 108         -         -            2.000000MB   0x7fe5d9800000  [Unified Memory Memcpy HtoD]\n",
      "652.36ms  329.25us                    -               -         -         -         -  GeForce GTX 108         -         -            2.000000MB   0x7fe5d9a00000  [Unified Memory Memcpy HtoD]\n",
      "652.69ms  328.22us                    -               -         -         -         -  GeForce GTX 108         -         -            2.000000MB   0x7fe5d9c00000  [Unified Memory Memcpy HtoD]\n",
      "653.02ms  328.03us                    -               -         -         -         -  GeForce GTX 108         -         -            2.000000MB   0x7fe5d9e00000  [Unified Memory Memcpy HtoD]\n",
      "653.50ms  1.6871ms            (640 1 1)       (256 1 1)        10        0B        0B  GeForce GTX 108         1         7                     -                -  addVectorsInto(float*, float*, float*, int) [219]\n",
      "655.26ms  375.94us                    -               -         -         -         -  GeForce GTX 108         -         -            2.000000MB   0x7fe5d2000000  [Unified Memory Memcpy DtoH]\n",
      "655.63ms  319.55us                    -               -         -         -         -  GeForce GTX 108         -         -            2.000000MB   0x7fe5d2200000  [Unified Memory Memcpy DtoH]\n",
      "655.96ms  319.42us                    -               -         -         -         -  GeForce GTX 108         -         -            2.000000MB   0x7fe5d2400000  [Unified Memory Memcpy DtoH]\n",
      "656.28ms  327.81us                    -               -         -         -         -  GeForce GTX 108         -         -            2.000000MB   0x7fe5d2600000  [Unified Memory Memcpy DtoH]\n",
      "656.61ms  327.87us                    -               -         -         -         -  GeForce GTX 108         -         -            2.000000MB   0x7fe5d2800000  [Unified Memory Memcpy DtoH]\n",
      "656.93ms  319.46us                    -               -         -         -         -  GeForce GTX 108         -         -            2.000000MB   0x7fe5d2a00000  [Unified Memory Memcpy DtoH]\n",
      "657.26ms  319.49us                    -               -         -         -         -  GeForce GTX 108         -         -            2.000000MB   0x7fe5d2c00000  [Unified Memory Memcpy DtoH]\n",
      "657.58ms  355.39us                    -               -         -         -         -  GeForce GTX 108         -         -            2.000000MB   0x7fe5d2e00000  [Unified Memory Memcpy DtoH]\n",
      "657.93ms  319.49us                    -               -         -         -         -  GeForce GTX 108         -         -            2.000000MB   0x7fe5d3000000  [Unified Memory Memcpy DtoH]\n",
      "658.25ms  319.36us                    -               -         -         -         -  GeForce GTX 108         -         -            2.000000MB   0x7fe5d3200000  [Unified Memory Memcpy DtoH]\n",
      "658.58ms  319.30us                    -               -         -         -         -  GeForce GTX 108         -         -            2.000000MB   0x7fe5d3400000  [Unified Memory Memcpy DtoH]\n",
      "658.90ms  348.96us                    -               -         -         -         -  GeForce GTX 108         -         -            2.000000MB   0x7fe5d3600000  [Unified Memory Memcpy DtoH]\n",
      "659.25ms  319.30us                    -               -         -         -         -  GeForce GTX 108         -         -            2.000000MB   0x7fe5d3800000  [Unified Memory Memcpy DtoH]\n",
      "659.57ms  351.81us                    -               -         -         -         -  GeForce GTX 108         -         -            2.000000MB   0x7fe5d3a00000  [Unified Memory Memcpy DtoH]\n",
      "659.92ms  365.86us                    -               -         -         -         -  GeForce GTX 108         -         -            2.000000MB   0x7fe5d3c00000  [Unified Memory Memcpy DtoH]\n",
      "660.29ms  357.73us                    -               -         -         -         -  GeForce GTX 108         -         -            2.000000MB   0x7fe5d3e00000  [Unified Memory Memcpy DtoH]\n",
      "660.65ms  319.52us                    -               -         -         -         -  GeForce GTX 108         -         -            2.000000MB   0x7fe5d4000000  [Unified Memory Memcpy DtoH]\n",
      "660.97ms  319.26us                    -               -         -         -         -  GeForce GTX 108         -         -            2.000000MB   0x7fe5d4200000  [Unified Memory Memcpy DtoH]\n",
      "661.29ms  327.74us                    -               -         -         -         -  GeForce GTX 108         -         -            2.000000MB   0x7fe5d4400000  [Unified Memory Memcpy DtoH]\n",
      "661.62ms  352.45us                    -               -         -         -         -  GeForce GTX 108         -         -            2.000000MB   0x7fe5d4600000  [Unified Memory Memcpy DtoH]\n",
      "661.97ms  340.83us                    -               -         -         -         -  GeForce GTX 108         -         -            2.000000MB   0x7fe5d4800000  [Unified Memory Memcpy DtoH]\n",
      "662.32ms  349.06us                    -               -         -         -         -  GeForce GTX 108         -         -            2.000000MB   0x7fe5d4a00000  [Unified Memory Memcpy DtoH]\n",
      "662.67ms  319.33us                    -               -         -         -         -  GeForce GTX 108         -         -            2.000000MB   0x7fe5d4c00000  [Unified Memory Memcpy DtoH]\n",
      "662.99ms  319.30us                    -               -         -         -         -  GeForce GTX 108         -         -            2.000000MB   0x7fe5d4e00000  [Unified Memory Memcpy DtoH]\n",
      "663.31ms  319.55us                    -               -         -         -         -  GeForce GTX 108         -         -            2.000000MB   0x7fe5d5000000  [Unified Memory Memcpy DtoH]\n",
      "663.63ms  319.39us                    -               -         -         -         -  GeForce GTX 108         -         -            2.000000MB   0x7fe5d5200000  [Unified Memory Memcpy DtoH]\n",
      "663.95ms  381.92us                    -               -         -         -         -  GeForce GTX 108         -         -            2.000000MB   0x7fe5d5400000  [Unified Memory Memcpy DtoH]\n",
      "664.33ms  345.09us                    -               -         -         -         -  GeForce GTX 108         -         -            2.000000MB   0x7fe5d5600000  [Unified Memory Memcpy DtoH]\n",
      "664.68ms  321.06us                    -               -         -         -         -  GeForce GTX 108         -         -            2.000000MB   0x7fe5d5800000  [Unified Memory Memcpy DtoH]\n",
      "665.00ms  321.22us                    -               -         -         -         -  GeForce GTX 108         -         -            2.000000MB   0x7fe5d5a00000  [Unified Memory Memcpy DtoH]\n",
      "665.33ms  350.78us                    -               -         -         -         -  GeForce GTX 108         -         -            2.000000MB   0x7fe5d5c00000  [Unified Memory Memcpy DtoH]\n",
      "665.68ms  360.96us                    -               -         -         -         -  GeForce GTX 108         -         -            2.000000MB   0x7fe5d5e00000  [Unified Memory Memcpy DtoH]\n",
      "666.04ms  320.70us                    -               -         -         -         -  GeForce GTX 108         -         -            2.000000MB   0x7fe5d6000000  [Unified Memory Memcpy DtoH]\n",
      "666.36ms  319.36us                    -               -         -         -         -  GeForce GTX 108         -         -            2.000000MB   0x7fe5d6200000  [Unified Memory Memcpy DtoH]\n",
      "666.68ms  319.23us                    -               -         -         -         -  GeForce GTX 108         -         -            2.000000MB   0x7fe5d6400000  [Unified Memory Memcpy DtoH]\n",
      "667.00ms  319.33us                    -               -         -         -         -  GeForce GTX 108         -         -            2.000000MB   0x7fe5d6600000  [Unified Memory Memcpy DtoH]\n",
      "667.33ms  319.23us                    -               -         -         -         -  GeForce GTX 108         -         -            2.000000MB   0x7fe5d6800000  [Unified Memory Memcpy DtoH]\n",
      "667.65ms  319.23us                    -               -         -         -         -  GeForce GTX 108         -         -            2.000000MB   0x7fe5d6a00000  [Unified Memory Memcpy DtoH]\n",
      "667.97ms  319.26us                    -               -         -         -         -  GeForce GTX 108         -         -            2.000000MB   0x7fe5d6c00000  [Unified Memory Memcpy DtoH]\n",
      "668.29ms  319.23us                    -               -         -         -         -  GeForce GTX 108         -         -            2.000000MB   0x7fe5d6e00000  [Unified Memory Memcpy DtoH]\n",
      "668.61ms  319.23us                    -               -         -         -         -  GeForce GTX 108         -         -            2.000000MB   0x7fe5d7000000  [Unified Memory Memcpy DtoH]\n",
      "668.93ms  381.22us                    -               -         -         -         -  GeForce GTX 108         -         -            2.000000MB   0x7fe5d7200000  [Unified Memory Memcpy DtoH]\n",
      "669.31ms  330.18us                    -               -         -         -         -  GeForce GTX 108         -         -            2.000000MB   0x7fe5d7400000  [Unified Memory Memcpy DtoH]\n",
      "669.64ms  319.49us                    -               -         -         -         -  GeForce GTX 108         -         -            2.000000MB   0x7fe5d7600000  [Unified Memory Memcpy DtoH]\n",
      "669.96ms  319.23us                    -               -         -         -         -  GeForce GTX 108         -         -            2.000000MB   0x7fe5d7800000  [Unified Memory Memcpy DtoH]\n",
      "670.29ms  319.23us                    -               -         -         -         -  GeForce GTX 108         -         -            2.000000MB   0x7fe5d7a00000  [Unified Memory Memcpy DtoH]\n",
      "670.61ms  319.23us                    -               -         -         -         -  GeForce GTX 108         -         -            2.000000MB   0x7fe5d7c00000  [Unified Memory Memcpy DtoH]\n",
      "670.93ms  319.23us                    -               -         -         -         -  GeForce GTX 108         -         -            2.000000MB   0x7fe5d7e00000  [Unified Memory Memcpy DtoH]\n",
      "671.25ms  319.20us                    -               -         -         -         -  GeForce GTX 108         -         -            2.000000MB   0x7fe5d8000000  [Unified Memory Memcpy DtoH]\n",
      "671.57ms  319.20us                    -               -         -         -         -  GeForce GTX 108         -         -            2.000000MB   0x7fe5d8200000  [Unified Memory Memcpy DtoH]\n",
      "671.89ms  319.20us                    -               -         -         -         -  GeForce GTX 108         -         -            2.000000MB   0x7fe5d8400000  [Unified Memory Memcpy DtoH]\n",
      "672.21ms  319.23us                    -               -         -         -         -  GeForce GTX 108         -         -            2.000000MB   0x7fe5d8600000  [Unified Memory Memcpy DtoH]\n",
      "672.53ms  397.82us                    -               -         -         -         -  GeForce GTX 108         -         -            2.000000MB   0x7fe5d8800000  [Unified Memory Memcpy DtoH]\n",
      "672.93ms  346.18us                    -               -         -         -         -  GeForce GTX 108         -         -            2.000000MB   0x7fe5d8a00000  [Unified Memory Memcpy DtoH]\n",
      "673.28ms  387.78us                    -               -         -         -         -  GeForce GTX 108         -         -            2.000000MB   0x7fe5d8c00000  [Unified Memory Memcpy DtoH]\n",
      "673.67ms  390.02us                    -               -         -         -         -  GeForce GTX 108         -         -            2.000000MB   0x7fe5d8e00000  [Unified Memory Memcpy DtoH]\n",
      "674.06ms  319.23us                    -               -         -         -         -  GeForce GTX 108         -         -            2.000000MB   0x7fe5d9000000  [Unified Memory Memcpy DtoH]\n",
      "674.38ms  319.23us                    -               -         -         -         -  GeForce GTX 108         -         -            2.000000MB   0x7fe5d9200000  [Unified Memory Memcpy DtoH]\n",
      "674.70ms  343.49us                    -               -         -         -         -  GeForce GTX 108         -         -            2.000000MB   0x7fe5d9400000  [Unified Memory Memcpy DtoH]\n",
      "675.05ms  319.23us                    -               -         -         -         -  GeForce GTX 108         -         -            2.000000MB   0x7fe5d9600000  [Unified Memory Memcpy DtoH]\n",
      "675.37ms  319.23us                    -               -         -         -         -  GeForce GTX 108         -         -            2.000000MB   0x7fe5d9800000  [Unified Memory Memcpy DtoH]\n",
      "675.69ms  319.23us                    -               -         -         -         -  GeForce GTX 108         -         -            2.000000MB   0x7fe5d9a00000  [Unified Memory Memcpy DtoH]\n",
      "676.01ms  351.71us                    -               -         -         -         -  GeForce GTX 108         -         -            2.000000MB   0x7fe5d9c00000  [Unified Memory Memcpy DtoH]\n",
      "676.36ms  395.07us                    -               -         -         -         -  GeForce GTX 108         -         -            2.000000MB   0x7fe5d9e00000  [Unified Memory Memcpy DtoH]\n",
      "\n",
      "Regs: Number of registers used per CUDA thread. This number includes registers used internally by the CUDA driver and/or tools and can be more than what the compiler shows.\n",
      "SSMem: Static shared memory allocated per CUDA block.\n",
      "DSMem: Dynamic shared memory allocated per CUDA block.\n"
     ]
    }
   ],
   "source": [
    "!nvprof --print-gpu-trace ./prefetch-to-cpu"
   ]
  },
  {
   "cell_type": "markdown",
   "metadata": {},
   "source": [
    "---\n",
    "## Summary\n",
    "\n",
    "At this point in the lab, you are able to:\n",
    "\n",
    "- Use the **NVIDIA Command Line Profiler** (**nvprof**) to profile accelerated application performance.\n",
    "- Leverage an understanding of **Streaming Multiprocessors** to optimize execution configurations.\n",
    "- Understand the behavior of **Unified Memory** with regard to page faulting and data migrations.\n",
    "- Use **asynchronous memory prefetching** to reduce page faults and data migrations for increased performance.\n",
    "- Employ an iterative development cycle to rapidly accelerate and deploy applications.\n",
    "\n",
    "In order to consolidate your learning, and reinforce your ability to iteratively accelerate, optimize, and deploy applications, please proceed to this lab's final exercise. After completing it, for those of you with time and interest, please proceed to the *Advanced Content* section."
   ]
  },
  {
   "cell_type": "markdown",
   "metadata": {},
   "source": [
    "---\n",
    "## Final Exercise: Iteratively Optimize an Accelerated SAXPY Application\n",
    "\n",
    "A basic accelerated [SAXPY](https://en.wikipedia.org/wiki/Basic_Linear_Algebra_Subprograms#Level_1) application has been provided for you [here](../../../../../edit/01-saxpy.cu). It currently contains a couple of bugs that you will need to find and fix before you can successfully compile, run, and then profile it with `nvprof`.\n",
    "\n",
    "After fixing the bugs and profiling the application, record the runtime of the `saxpy` kernel and then work *iteratively* to optimize the application, using `nvprof` after each iteration to notice the effects of the code changes on kernel performance and UM behavior.\n",
    "\n",
    "Utilize the techniques from this lab. To support your learning, utilize [effortful retrieval](http://sites.gsu.edu/scholarlyteaching/effortful-retrieval/) whenever possible, rather than rushing to look up the specifics of techniques from earlier in the lesson.\n",
    "\n",
    "Your end goal is to profile an accurate `saxpy` kernel, without modifying `N`, to run in under *50us*. Check out [the solution](../../../../../edit/solutions/02-saxpy-solution.cu) if you get stuck, and feel free to compile and profile it if you wish."
   ]
  },
  {
   "cell_type": "code",
   "execution_count": null,
   "metadata": {},
   "outputs": [],
   "source": [
    "!nvcc -arch=sm_61 -o saxpy 01-saxpy.cu -run"
   ]
  },
  {
   "cell_type": "code",
   "execution_count": null,
   "metadata": {},
   "outputs": [],
   "source": [
    "!nvprof ./saxpy"
   ]
  }
 ],
 "metadata": {
  "kernelspec": {
   "display_name": "Python 2",
   "language": "python",
   "name": "python2"
  },
  "language_info": {
   "codemirror_mode": {
    "name": "ipython",
    "version": 2
   },
   "file_extension": ".py",
   "mimetype": "text/x-python",
   "name": "python",
   "nbconvert_exporter": "python",
   "pygments_lexer": "ipython2",
   "version": "2.7.17"
  }
 },
 "nbformat": 4,
 "nbformat_minor": 1
}
